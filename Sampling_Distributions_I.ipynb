{
  "nbformat": 4,
  "nbformat_minor": 0,
  "metadata": {
    "colab": {
      "provenance": [],
      "authorship_tag": "ABX9TyPuXHQOi/1RfAKcgTK9GS+F",
      "include_colab_link": true
    },
    "kernelspec": {
      "name": "python3",
      "display_name": "Python 3"
    },
    "language_info": {
      "name": "python"
    }
  },
  "cells": [
    {
      "cell_type": "markdown",
      "metadata": {
        "id": "view-in-github",
        "colab_type": "text"
      },
      "source": [
        "<a href=\"https://colab.research.google.com/github/KIISIISHERE/Sampling-Distributions/blob/main/Sampling_Distributions_I.ipynb\" target=\"_parent\"><img src=\"https://colab.research.google.com/assets/colab-badge.svg\" alt=\"Open In Colab\"/></a>"
      ]
    },
    {
      "cell_type": "code",
      "execution_count": 18,
      "metadata": {
        "id": "LWccT12KbrSI"
      },
      "outputs": [],
      "source": [
        "import numpy as np"
      ]
    },
    {
      "cell_type": "code",
      "source": [
        "np.random.seed(42)\n",
        "pupies=np.array([1,0,1,1,1,1,0,0,0,0,1,1,1,1,1,1,1,1,1,1])"
      ],
      "metadata": {
        "id": "Tg-Wgn8K1tra"
      },
      "execution_count": 19,
      "outputs": []
    },
    {
      "cell_type": "code",
      "source": [
        "#calculate the mean of the data\n",
        "p=pupies.mean()\n",
        "print(\"Mean:\",p)"
      ],
      "metadata": {
        "colab": {
          "base_uri": "https://localhost:8080/"
        },
        "id": "T6CfA9My2MU1",
        "outputId": "39d9f3e0-9278-4b90-8dea-1c24d0e50b27"
      },
      "execution_count": 20,
      "outputs": [
        {
          "output_type": "stream",
          "name": "stdout",
          "text": [
            "Mean: 0.75\n"
          ]
        }
      ]
    },
    {
      "cell_type": "code",
      "source": [
        "#variance and standard deviation\n",
        "print(\"Variance:\",pupies.var())\n",
        "print(\"Standard Deviation:\",pupies.std())"
      ],
      "metadata": {
        "colab": {
          "base_uri": "https://localhost:8080/"
        },
        "id": "rKNOeYrE223q",
        "outputId": "56f183ac-5f26-4433-8aae-f9c2b73ed898"
      },
      "execution_count": 21,
      "outputs": [
        {
          "output_type": "stream",
          "name": "stdout",
          "text": [
            "Variance: 0.1875\n",
            "Standard Deviation: 0.4330127018922193\n"
          ]
        }
      ]
    },
    {
      "cell_type": "code",
      "source": [
        "#random choice\n",
        "np.random.choice(pupies,size=(1,5),replace=True)\n",
        "np.random.choice(pupies,size=(1,5),replace=True).mean()"
      ],
      "metadata": {
        "colab": {
          "base_uri": "https://localhost:8080/"
        },
        "id": "Ppp1tYQu3XXQ",
        "outputId": "10252070-5b37-4598-fbcf-185f6aec55aa"
      },
      "execution_count": 22,
      "outputs": [
        {
          "output_type": "execute_result",
          "data": {
            "text/plain": [
              "np.float64(0.8)"
            ]
          },
          "metadata": {},
          "execution_count": 22
        }
      ]
    },
    {
      "cell_type": "code",
      "source": [
        "print(\"\\n Sampling Distribution with size 5\")\n",
        "sample_props=[]\n",
        "for i in range(1000):\n",
        "    sample=np.random.choice(pupies,size=(1,5),replace=True)\n",
        "    sample_props.append(sample.mean())\n",
        "print(\"Mean:\",np.mean(sample_props))\n",
        "print(\"Std:\",np.std(sample_props))"
      ],
      "metadata": {
        "colab": {
          "base_uri": "https://localhost:8080/"
        },
        "id": "CoQtFNjr4Enu",
        "outputId": "3dec19d6-778d-4f90-f3c4-7bca9b7a9fec"
      },
      "execution_count": 23,
      "outputs": [
        {
          "output_type": "stream",
          "name": "stdout",
          "text": [
            "\n",
            " Sampling Distribution with size 5\n",
            "Mean: 0.7576\n",
            "Std: 0.19586280912924742\n"
          ]
        }
      ]
    }
  ]
}